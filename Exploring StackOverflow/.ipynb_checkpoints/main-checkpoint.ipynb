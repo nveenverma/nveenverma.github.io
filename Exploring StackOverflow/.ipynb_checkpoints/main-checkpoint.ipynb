{
 "cells": [
  {
   "cell_type": "markdown",
   "metadata": {},
   "source": [
    "# Scraping StackOverflow\n",
    "\n",
    "In this project, we will scrap StackOverflow website and list the top languages being mentioned/tagged alongwith their tag counts. "
   ]
  },
  {
   "cell_type": "code",
   "execution_count": 1,
   "metadata": {},
   "outputs": [],
   "source": [
    "from urllib.request import urlopen\n",
    "import urllib.parse\n",
    "from bs4 import BeautifulSoup as bs\n",
    "import pandas as pd\n",
    "import matplotlib.pyplot as plt\n",
    "import matplotlib.style as style\n",
    "from matplotlib import pyplot as mp\n",
    "%matplotlib inline\n",
    "\n",
    "style.use('fivethirtyeight')\n",
    "\n",
    "# Reading html file into content variable using urlopen\n",
    "content = urlopen('http://stackoverflow.com/tags?tab=popular')\n",
    "\n",
    "# Parsing html data using BeautifulSoup\n",
    "soup = bs(content, 'html.parser')"
   ]
  },
  {
   "cell_type": "markdown",
   "metadata": {},
   "source": [
    "## Getting List of Top Languages"
   ]
  },
  {
   "cell_type": "code",
   "execution_count": 2,
   "metadata": {},
   "outputs": [
    {
     "name": "stdout",
     "output_type": "stream",
     "text": [
      "['javascript', 'java', 'c#', 'php', 'android', 'python', 'jquery', 'html', 'c++', 'ios', 'css', 'mysql', 'sql', 'asp.net', 'ruby-on-rails', 'c', 'arrays', 'r', 'objective-c', '.net', 'node.js', 'json', 'sql-server', 'angularjs', 'swift', 'iphone', 'regex', 'ruby', 'ajax', 'django', 'excel', 'xml', 'asp.net-mvc', 'linux', 'angular', 'python-3.x']\n"
     ]
    }
   ],
   "source": [
    "lang_list = []\n",
    "\n",
    "# Looping through all the a tag elements with class 'post-tag' to get language's name\n",
    "for tag in soup.find_all('a',attrs={'class':'post-tag'}):\n",
    "        lang_list.append(tag.text)\n",
    "        \n",
    "print(lang_list)"
   ]
  },
  {
   "cell_type": "markdown",
   "metadata": {},
   "source": [
    "## Getting List of Tag Counts of the Top Languages"
   ]
  },
  {
   "cell_type": "code",
   "execution_count": 3,
   "metadata": {},
   "outputs": [
    {
     "name": "stdout",
     "output_type": "stream",
     "text": [
      "[1810675, 1548565, 1312460, 1284007, 1194424, 1171395, 953990, 823084, 618008, 598697, 586189, 560801, 491843, 346075, 306284, 303427, 295765, 289905, 287493, 283264, 275299, 262328, 260232, 258136, 230329, 219896, 207367, 204548, 199318, 198095, 194706, 183252, 180625, 176113, 166774, 161124]\n"
     ]
    }
   ],
   "source": [
    "count_list = []\n",
    "\n",
    "# Looping through all the span elements with class 'item-multiplier-count' to get tag counts\n",
    "for count in soup.find_all('span',attrs={'class':'item-multiplier-count'}):\n",
    "        count_list.append(int(count.text))\n",
    "        \n",
    "print(count_list)"
   ]
  },
  {
   "cell_type": "markdown",
   "metadata": {},
   "source": [
    "### Visualising Top Languages"
   ]
  },
  {
   "cell_type": "code",
   "execution_count": 7,
   "metadata": {},
   "outputs": [
    {
     "data": {
      "image/png": "[encoded data removed]",
      "text/plain": [
       "<Figure size 504x288 with 1 Axes>"
      ]
     },
     "metadata": {
      "needs_background": "light"
     },
     "output_type": "display_data"
    }
   ],
   "source": [
    "plt.figure(figsize=(9,4))\n",
    "plt.bar(lang_list[:10], count_list[:10])\n",
    "plt.xticks(rotation=75)\n",
    "plt.tight_layout()\n",
    "plt.xlabel('Languages')\n",
    "plt.ylabel('Tags')\n",
    "plt.title('Number of Tags per Language')\n",
    "mp.savefig('comparison.png')\n",
    "plt.show()"
   ]
  },
  {
   "cell_type": "markdown",
   "metadata": {},
   "source": [
    "***Getting list of top languages and their respective tag counts was straight and easy.<br> But, scraping top question and respective top answer is a multi-step process:***\n",
    "\n",
    "***Steps to extract Top Question and respective Top Answer:***\n",
    ">  Build url for the language page, given language name.<br>\n",
    " Parse and scrape that url to extract link of top question.<br>\n",
    " Again, build url with extracted link.<br>\n",
    " parse and scrape that url to get top question and respectibe top answer."
   ]
  },
  {
   "cell_type": "markdown",
   "metadata": {},
   "source": [
    "## Getting List of Top Question's URL"
   ]
  },
  {
   "cell_type": "code",
   "execution_count": 6,
   "metadata": {},
   "outputs": [
    {
     "data": {
      "text/plain": [
       "['https://stackoverflow.com/questions/503093/how-do-i-redirect-to-another-webpage',\n",
       " 'https://stackoverflow.com/questions/11227809/why-is-it-faster-to-process-a-sorted-array-than-an-unsorted-array',\n",
       " 'https://stackoverflow.com/questions/7074/what-is-the-difference-between-string-and-string-in-c',\n",
       " 'https://stackoverflow.com/questions/3737139/reference-what-does-this-symbol-mean-in-php',\n",
       " 'https://stackoverflow.com/questions/2025282/what-is-the-difference-between-px-dip-dp-and-sp',\n",
       " 'https://stackoverflow.com/questions/231767/what-does-the-yield-keyword-do',\n",
       " 'https://stackoverflow.com/questions/503093/how-do-i-redirect-to-another-webpage',\n",
       " 'https://stackoverflow.com/questions/8318911/why-does-html-think-chucknorris-is-a-color',\n",
       " 'https://stackoverflow.com/questions/11227809/why-is-it-faster-to-process-a-sorted-array-than-an-unsorted-array',\n",
       " 'https://stackoverflow.com/questions/1054558/vertically-align-text-to-top-within-a-uilabel',\n",
       " 'https://stackoverflow.com/questions/8318911/why-does-html-think-chucknorris-is-a-color',\n",
       " 'https://stackoverflow.com/questions/60174/how-can-i-prevent-sql-injection-in-php',\n",
       " 'https://stackoverflow.com/questions/38549/what-is-the-difference-between-inner-join-and-outer-join',\n",
       " 'https://stackoverflow.com/questions/206384/how-do-i-format-a-microsoft-json-date',\n",
       " 'https://stackoverflow.com/questions/1992019/how-can-i-rename-a-database-column-in-a-ruby-on-rails-migration',\n",
       " 'https://stackoverflow.com/questions/1711631/improve-insert-per-second-performance-of-sqlite',\n",
       " 'https://stackoverflow.com/questions/5767325/how-do-i-remove-a-particular-element-from-an-array-in-javascript',\n",
       " 'https://stackoverflow.com/questions/588866/whats-the-difference-between-the-atomic-and-nonatomic-attributes',\n",
       " 'https://stackoverflow.com/questions/7074/what-is-the-difference-between-string-and-string-in-c',\n",
       " 'https://stackoverflow.com/questions/5963269/how-to-make-a-great-r-reproducible-example',\n",
       " 'https://stackoverflow.com/questions/22343224/whats-the-difference-between-tilde-and-caret-in-package-json',\n",
       " 'https://stackoverflow.com/questions/14994391/thinking-in-angularjs-if-i-have-a-jquery-background',\n",
       " 'https://stackoverflow.com/questions/477816/what-is-the-correct-json-content-type',\n",
       " 'https://stackoverflow.com/questions/2334712/how-do-i-update-from-a-select-in-sql-server',\n",
       " 'https://stackoverflow.com/questions/24101718/swift-beta-performance-sorting-arrays',\n",
       " 'https://stackoverflow.com/questions/22358/how-can-i-develop-for-iphone-using-a-windows-development-machine',\n",
       " 'https://stackoverflow.com/questions/406230/regular-expression-to-match-a-line-that-doesnt-contain-a-word',\n",
       " 'https://stackoverflow.com/questions/948135/how-to-write-a-switch-statement-in-ruby',\n",
       " 'https://stackoverflow.com/questions/14220321/how-do-i-return-the-response-from-an-asynchronous-call',\n",
       " 'https://stackoverflow.com/questions/886221/does-django-scale',\n",
       " 'https://stackoverflow.com/questions/151005/how-to-create-excel-xls-and-xlsx-file-in-c-sharp-without-installing-ms-offic',\n",
       " 'https://stackoverflow.com/questions/3577641/how-do-you-parse-and-process-html-xml-in-php',\n",
       " 'https://stackoverflow.com/questions/81991/a-potentially-dangerous-request-form-value-was-detected-from-the-client',\n",
       " 'https://stackoverflow.com/questions/16956810/how-do-i-find-all-files-containing-specific-text-on-linux',\n",
       " 'https://stackoverflow.com/questions/37364973/what-is-the-difference-between-promises-and-observables',\n",
       " 'https://stackoverflow.com/questions/38549/what-is-the-difference-between-inner-join-and-outer-join']"
      ]
     },
     "execution_count": 6,
     "metadata": {},
     "output_type": "execute_result"
    }
   ],
   "source": [
    "import urllib.parse\n",
    "question_page_urls = []\n",
    "\n",
    "# Looping through list of top languages\n",
    "for elem in lang_list:\n",
    "    \n",
    "    # Building URL\n",
    "    # One important thing to note here is that we need to convert string elements into form expected in a url. \n",
    "    # For example, C# would need to be converted to c%23.\n",
    "    # For that, we will use 'urlib.parse'. It will quote special symbols into URL-Specific format.\n",
    "    lang_sub_page_url = 'https://stackoverflow.com/questions/tagged/' + urllib.parse.quote(elem) + '?sort=votes&pageSize=15'\n",
    "    \n",
    "    # Scraping Webpage\n",
    "    lang_sub_page_content = urlopen(lang_sub_page_url).read()\n",
    "    soup1 = bs(lang_sub_page_content, 'html.parser')\n",
    "    \n",
    "    # Extracting link for top question using href attribute of anchor tag element with class \n",
    "    # 'question-hyperlink'\n",
    "    question_page_link = soup1.find('a', class_ = 'question-hyperlink')['href']\n",
    "    \n",
    "    # Building URL for Top Question Page using extracted link\n",
    "    question_page_urls.append('https://stackoverflow.com' + question_page_link)\n",
    "    \n",
    "question_page_urls"
   ]
  },
  {
   "cell_type": "markdown",
   "metadata": {},
   "source": [
    "## Extracting Top Question and Answer in Each Language"
   ]
  },
  {
   "cell_type": "code",
   "execution_count": 7,
   "metadata": {},
   "outputs": [
    {
     "name": "stdout",
     "output_type": "stream",
     "text": [
      "['How do I redirect to another webpage?', 'Why is it faster to process a sorted array than an unsorted array?', 'What is the difference between String and string in C#?', 'Reference — What does this symbol mean in PHP?', 'What is the difference between “px”, “dip”, “dp” and “sp”?']\n"
     ]
    },
    {
     "data": {
      "text/plain": [
       "'\\nOne does not simply redirect using jQuery\\njQuery is not necessary, and window.location.replace(...) will best simulate an HTTP redirect.  \\nwindow.location.replace(...) is better than using window.location.href, because replace() does not keep the originating page in the session history, meaning the user won\\'t get stuck in a never-ending back-button fiasco.\\n\\nIf you want to simulate someone clicking on a link, use\\n  location.href\\nIf you want to simulate an HTTP redirect, use location.replace\\n\\nFor example:\\n// similar behavior as an HTTP redirect\\nwindow.location.replace(\"http://stackoverflow.com\");\\n\\n// similar behavior as clicking on a link\\nwindow.location.href = \"http://stackoverflow.com\";\\n\\n'"
      ]
     },
     "execution_count": 7,
     "metadata": {},
     "output_type": "execute_result"
    }
   ],
   "source": [
    "question_list = []\n",
    "answer_list = []\n",
    "\n",
    "# Looping through each Top Question URL\n",
    "for item in question_page_urls:\n",
    "    \n",
    "    # Reading and Scraping Webpage\n",
    "    page_content = urlopen(item).read()\n",
    "    soup2 = bs(page_content, 'html.parser')\n",
    "    \n",
    "    # Extracting Question using text of anchor tag with class 'question-hyperlink'\n",
    "    question_list.append(soup2.find('a', class_ = 'question-hyperlink').text)\n",
    "\n",
    "    # Extracting Answer using text from first child of div tag with class 'answercell'\n",
    "    answer_list.append(soup2.find('div', class_ = 'answercell').findChild().text)\n",
    "    \n",
    "print(question_list[:5])\n",
    "answer_list[0]"
   ]
  },
  {
   "cell_type": "markdown",
   "metadata": {},
   "source": [
    "## Merging them into a DataFrame"
   ]
  },
  {
   "cell_type": "code",
   "execution_count": 8,
   "metadata": {},
   "outputs": [
    {
     "data": {
      "text/html": [
       "<div>\n",
       "<style scoped>\n",
       "    .dataframe tbody tr th:only-of-type {\n",
       "        vertical-align: middle;\n",
       "    }\n",
       "\n",
       "    .dataframe tbody tr th {\n",
       "        vertical-align: top;\n",
       "    }\n",
       "\n",
       "    .dataframe thead th {\n",
       "        text-align: right;\n",
       "    }\n",
       "</style>\n",
       "<table border=\"1\" class=\"dataframe\">\n",
       "  <thead>\n",
       "    <tr style=\"text-align: right;\">\n",
       "      <th></th>\n",
       "      <th>Language</th>\n",
       "      <th>Tag Count</th>\n",
       "      <th>Top Question</th>\n",
       "      <th>Top Answer</th>\n",
       "    </tr>\n",
       "  </thead>\n",
       "  <tbody>\n",
       "    <tr>\n",
       "      <th>0</th>\n",
       "      <td>javascript</td>\n",
       "      <td>1775684</td>\n",
       "      <td>How do I redirect to another webpage?</td>\n",
       "      <td>\\nOne does not simply redirect using jQuery\\nj...</td>\n",
       "    </tr>\n",
       "    <tr>\n",
       "      <th>1</th>\n",
       "      <td>java</td>\n",
       "      <td>1523913</td>\n",
       "      <td>Why is it faster to process a sorted array tha...</td>\n",
       "      <td>\\nYou are a victim of branch prediction fail.\\...</td>\n",
       "    </tr>\n",
       "    <tr>\n",
       "      <th>2</th>\n",
       "      <td>c#</td>\n",
       "      <td>1292733</td>\n",
       "      <td>What is the difference between String and stri...</td>\n",
       "      <td>\\nstring is an alias in C# for System.String.\\...</td>\n",
       "    </tr>\n",
       "    <tr>\n",
       "      <th>3</th>\n",
       "      <td>php</td>\n",
       "      <td>1268489</td>\n",
       "      <td>Reference — What does this symbol mean in PHP?</td>\n",
       "      <td>\\nIncrementing / Decrementing Operators\\n++ in...</td>\n",
       "    </tr>\n",
       "    <tr>\n",
       "      <th>4</th>\n",
       "      <td>android</td>\n",
       "      <td>1179271</td>\n",
       "      <td>What is the difference between “px”, “dip”, “d...</td>\n",
       "      <td>\\nFrom the Android Developer Documentation:\\n\\...</td>\n",
       "    </tr>\n",
       "  </tbody>\n",
       "</table>\n",
       "</div>"
      ],
      "text/plain": [
       "     Language  Tag Count                                       Top Question  \\\n",
       "0  javascript    1775684              How do I redirect to another webpage?   \n",
       "1        java    1523913  Why is it faster to process a sorted array tha...   \n",
       "2          c#    1292733  What is the difference between String and stri...   \n",
       "3         php    1268489     Reference — What does this symbol mean in PHP?   \n",
       "4     android    1179271  What is the difference between “px”, “dip”, “d...   \n",
       "\n",
       "                                          Top Answer  \n",
       "0  \\nOne does not simply redirect using jQuery\\nj...  \n",
       "1  \\nYou are a victim of branch prediction fail.\\...  \n",
       "2  \\nstring is an alias in C# for System.String.\\...  \n",
       "3  \\nIncrementing / Decrementing Operators\\n++ in...  \n",
       "4  \\nFrom the Android Developer Documentation:\\n\\...  "
      ]
     },
     "execution_count": 8,
     "metadata": {},
     "output_type": "execute_result"
    }
   ],
   "source": [
    "df = pd.DataFrame(\n",
    "    {'Language': lang_list,\n",
    "     'Tag Count': count_list,\n",
    "     'Top Question': question_list,\n",
    "     'Top Answer' : answer_list\n",
    "    })\n",
    "\n",
    "df.head()"
   ]
  },
  {
   "cell_type": "code",
   "execution_count": null,
   "metadata": {},
   "outputs": [],
   "source": []
  }
 ],
 "metadata": {
  "kernelspec": {
   "display_name": "Python 3",
   "language": "python",
   "name": "python3"
  },
  "language_info": {
   "codemirror_mode": {
    "name": "ipython",
    "version": 3
   },
   "file_extension": ".py",
   "mimetype": "text/x-python",
   "name": "python",
   "nbconvert_exporter": "python",
   "pygments_lexer": "ipython3",
   "version": "3.6.8"
  }
 },
 "nbformat": 4,
 "nbformat_minor": 2
}
